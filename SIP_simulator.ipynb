{
 "cells": [
  {
   "cell_type": "code",
   "execution_count": 3,
   "id": "1e90c72d",
   "metadata": {},
   "outputs": [],
   "source": [
    "import numpy as np"
   ]
  },
  {
   "cell_type": "code",
   "execution_count": 4,
   "id": "a24c523f",
   "metadata": {},
   "outputs": [],
   "source": [
    "N,mean,std = 120,0.7,4 ## 10 yrs return with mean 0.7% monthly return and 4% std\n"
   ]
  },
  {
   "cell_type": "code",
   "execution_count": 5,
   "id": "c46560c2",
   "metadata": {},
   "outputs": [],
   "source": [
    "\n",
    "np.random.seed(42)\n",
    "returns = np.random.randn(N) * std + mean"
   ]
  },
  {
   "cell_type": "code",
   "execution_count": 6,
   "id": "a4903b19",
   "metadata": {},
   "outputs": [],
   "source": [
    "amount = np.full(120,0)\n",
    "amount[0] = 10000*(1+ (returns[0]/100))\n",
    "for i in range(1,120): amount[i] = amount[i-1] * (1+ (returns[i]/100)) +10000"
   ]
  },
  {
   "cell_type": "code",
   "execution_count": 7,
   "id": "90e3ce66",
   "metadata": {},
   "outputs": [
    {
     "data": {
      "text/plain": [
       "array([  10268,   20283,   30950,   43052,   52950,   62824,   77232,\n",
       "         90143,   99081,  111924,  120632,  129229,  141384,  141553,\n",
       "        142777,  150565,  155519,  168562,  173619,  175026,  196512,\n",
       "        206112,  218111,  217207,  223997,  236558,  237322,  252549,\n",
       "        258249,  267043,  272485,  304581,  316548,  315371,  337954,\n",
       "        333816,  348941,  334031,  328623,  343511,  366062,  381133,\n",
       "        392037,  400059,  389199,  390716,  396251,  425780,  444612,\n",
       "        426369,  444880,  451141,  452083,  476308,  509285,  541821,\n",
       "        537425,  544539,  565566,  601594,  604274,  614016,  601141,\n",
       "        586585,  619755,  667714,  680464,  722541,  748050,  743983,\n",
       "        769945,  832702,  847337,  916299,  836694,  880058,  899282,\n",
       "        904821,  924475,  867448,  875897,  904540,  974344,  970965,\n",
       "        956360,  953860, 1005463, 1035723, 1031025, 1069409, 1091047,\n",
       "       1150957, 1136692, 1139750, 1139852, 1091103, 1121664, 1151228,\n",
       "       1169522, 1176734, 1128350, 1127263, 1129700, 1111354, 1121963,\n",
       "       1157949, 1263418, 1291084, 1323422, 1338745, 1255366, 1272822,\n",
       "       1294798, 1441437, 1450436, 1488084, 1506434, 1456557, 1543336,\n",
       "       1610558])"
      ]
     },
     "execution_count": 7,
     "metadata": {},
     "output_type": "execute_result"
    }
   ],
   "source": [
    "amount"
   ]
  },
  {
   "cell_type": "code",
   "execution_count": 42,
   "id": "99b66e6b",
   "metadata": {},
   "outputs": [],
   "source": [
    "arr = np.random.randint(2,15,5)"
   ]
  },
  {
   "cell_type": "code",
   "execution_count": 43,
   "id": "b470123d",
   "metadata": {},
   "outputs": [
    {
     "data": {
      "text/plain": [
       "array([14, 10,  5,  2,  5], dtype=int32)"
      ]
     },
     "execution_count": 43,
     "metadata": {},
     "output_type": "execute_result"
    }
   ],
   "source": [
    "arr"
   ]
  },
  {
   "cell_type": "code",
   "execution_count": null,
   "id": "a60b16be",
   "metadata": {},
   "outputs": [],
   "source": []
  },
  {
   "cell_type": "code",
   "execution_count": null,
   "id": "b65dc11e",
   "metadata": {},
   "outputs": [],
   "source": []
  },
  {
   "cell_type": "code",
   "execution_count": null,
   "id": "caee01d7",
   "metadata": {},
   "outputs": [],
   "source": []
  },
  {
   "cell_type": "code",
   "execution_count": null,
   "id": "2060c9a8",
   "metadata": {},
   "outputs": [],
   "source": []
  },
  {
   "cell_type": "code",
   "execution_count": null,
   "id": "5495231d",
   "metadata": {},
   "outputs": [],
   "source": []
  },
  {
   "cell_type": "code",
   "execution_count": null,
   "id": "f78f9ec7",
   "metadata": {},
   "outputs": [],
   "source": []
  }
 ],
 "metadata": {
  "kernelspec": {
   "display_name": "Python 3",
   "language": "python",
   "name": "python3"
  },
  "language_info": {
   "codemirror_mode": {
    "name": "ipython",
    "version": 3
   },
   "file_extension": ".py",
   "mimetype": "text/x-python",
   "name": "python",
   "nbconvert_exporter": "python",
   "pygments_lexer": "ipython3",
   "version": "3.13.0"
  }
 },
 "nbformat": 4,
 "nbformat_minor": 5
}
