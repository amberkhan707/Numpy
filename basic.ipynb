{
 "cells": [
  {
   "cell_type": "code",
   "execution_count": 249,
   "id": "cac761fa",
   "metadata": {},
   "outputs": [],
   "source": [
    "import numpy as np\n",
    "import pandas as pd "
   ]
  },
  {
   "cell_type": "code",
   "execution_count": 268,
   "id": "54307f81",
   "metadata": {},
   "outputs": [],
   "source": [
    "np.random.seed(42)## for kepping constant return of random function used below "
   ]
  },
  {
   "cell_type": "code",
   "execution_count": 251,
   "id": "78428356",
   "metadata": {},
   "outputs": [],
   "source": [
    "N,mean,std = 5000,0.005,0.01"
   ]
  },
  {
   "cell_type": "code",
   "execution_count": 252,
   "id": "729b61e2",
   "metadata": {},
   "outputs": [],
   "source": [
    "returns = np.random.randn(N)*std + mean ## we are assuming :: last 500 trading days return follow normal distribution"
   ]
  },
  {
   "cell_type": "code",
   "execution_count": 253,
   "id": "e7972cfa",
   "metadata": {},
   "outputs": [],
   "source": [
    "returns;"
   ]
  },
  {
   "cell_type": "code",
   "execution_count": 254,
   "id": "9ae81b0a",
   "metadata": {},
   "outputs": [],
   "source": [
    "Price = 100* np.exp(np.cumsum(returns)) ## mera initial investment 100 rupee h to after 500 days kya hoga\n",
    "## np.cumsum() -> Kis treh paise grow ya shrink ho rha h \n",
    "## np.expo() -> Logrithmic form se standard price form me change kiya "
   ]
  },
  {
   "cell_type": "code",
   "execution_count": 255,
   "id": "2ce13fd4",
   "metadata": {},
   "outputs": [],
   "source": [
    "Price;"
   ]
  },
  {
   "cell_type": "code",
   "execution_count": 256,
   "id": "223865e7",
   "metadata": {},
   "outputs": [],
   "source": [
    "prices  = pd.Series(Price)\n",
    "sma_short = prices.rolling(window=20).mean()  ##short term\n",
    "sma_long  = prices.rolling(window=50).mean()  ## long term"
   ]
  },
  {
   "cell_type": "code",
   "execution_count": 257,
   "id": "7e3b38d0",
   "metadata": {},
   "outputs": [],
   "source": [
    "sma_long = sma_long.dropna()\n",
    "sma_short = sma_short.dropna()"
   ]
  },
  {
   "cell_type": "code",
   "execution_count": 258,
   "id": "eb90f2e1",
   "metadata": {},
   "outputs": [],
   "source": [
    "window_short, window_long = 20,50\n",
    "offset = window_long  - window_short\n",
    "sma_short  = sma_short[offset:]\n",
    "prices = prices[window_long-1 : ]"
   ]
  },
  {
   "cell_type": "code",
   "execution_count": 259,
   "id": "895d03b6",
   "metadata": {},
   "outputs": [],
   "source": [
    "sma_long = np.array(sma_long)\n",
    "sma_short = np.array(sma_short)\n",
    "prices = np.array(prices)\n"
   ]
  },
  {
   "cell_type": "code",
   "execution_count": 260,
   "id": "29d9ebfe",
   "metadata": {},
   "outputs": [
    {
     "name": "stdout",
     "output_type": "stream",
     "text": [
      "112.73487453771988 121.02241106699005\n",
      "113.36359095238083 121.82280414958811\n",
      "114.03498339226536 122.7190681938649\n",
      "114.71877050669154 123.56654407478382\n",
      "115.43978069329472 124.52733760361109\n",
      "116.1779147119498 125.59840435045552\n",
      "116.94432028832834 126.77412172853842\n",
      "117.72311572686813 127.91078266808302\n",
      "118.56652298555409 129.2240348520944\n",
      "119.46745776305396 130.6866831099516\n"
     ]
    }
   ],
   "source": [
    "for i in range(10) : print(sma_long[i],sma_short[i]) \n",
    "   "
   ]
  },
  {
   "cell_type": "code",
   "execution_count": 261,
   "id": "ab9e1efc",
   "metadata": {},
   "outputs": [],
   "source": [
    "signal = np.where(sma_short < sma_long, 1, -1)"
   ]
  },
  {
   "cell_type": "code",
   "execution_count": 262,
   "id": "5ea13603",
   "metadata": {},
   "outputs": [
    {
     "data": {
      "text/plain": [
       "array([-1, -1, -1, ..., -1, -1, -1])"
      ]
     },
     "execution_count": 262,
     "metadata": {},
     "output_type": "execute_result"
    }
   ],
   "source": [
    "signal"
   ]
  },
  {
   "cell_type": "code",
   "execution_count": 263,
   "id": "3e0f6772",
   "metadata": {},
   "outputs": [],
   "source": [
    "ret = ((prices[1:]/prices[:-1]) -1)"
   ]
  },
  {
   "cell_type": "code",
   "execution_count": 264,
   "id": "2106cb2d",
   "metadata": {},
   "outputs": [],
   "source": [
    "strategy = ret * signal[:-1]"
   ]
  },
  {
   "cell_type": "code",
   "execution_count": 265,
   "id": "a12083e4",
   "metadata": {},
   "outputs": [
    {
     "data": {
      "text/plain": [
       "np.float64(1.4540269540189752e-11)"
      ]
     },
     "execution_count": 265,
     "metadata": {},
     "output_type": "execute_result"
    }
   ],
   "source": [
    "cumulative_return  = np.cumprod(1+strategy)\n",
    "cumulative_return[-1]"
   ]
  },
  {
   "cell_type": "code",
   "execution_count": 266,
   "id": "974758dc",
   "metadata": {},
   "outputs": [
    {
     "name": "stdout",
     "output_type": "stream",
     "text": [
      "-0.9999999999854597 -7.841329213729997\n"
     ]
    }
   ],
   "source": [
    "pct_return = cumulative_return[-1]-1 \n",
    "sr = np.mean(strategy)/np.std(strategy,ddof =1) * np.sqrt(252)\n",
    "print(pct_return,sr)"
   ]
  },
  {
   "cell_type": "code",
   "execution_count": null,
   "id": "46d75c0d",
   "metadata": {},
   "outputs": [],
   "source": []
  },
  {
   "cell_type": "markdown",
   "id": "539063f7",
   "metadata": {},
   "source": []
  }
 ],
 "metadata": {
  "kernelspec": {
   "display_name": "Python 3",
   "language": "python",
   "name": "python3"
  },
  "language_info": {
   "codemirror_mode": {
    "name": "ipython",
    "version": 3
   },
   "file_extension": ".py",
   "mimetype": "text/x-python",
   "name": "python",
   "nbconvert_exporter": "python",
   "pygments_lexer": "ipython3",
   "version": "3.13.0"
  }
 },
 "nbformat": 4,
 "nbformat_minor": 5
}
